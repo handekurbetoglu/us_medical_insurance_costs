{
 "cells": [
  {
   "cell_type": "code",
   "execution_count": 5,
   "id": "ea10ee63",
   "metadata": {},
   "outputs": [],
   "source": [
    "import csv\n",
    "\n",
    "ages = []\n",
    "sexes = []\n",
    "bmis = []\n",
    "children = []\n",
    "smoker = []\n",
    "region = []\n",
    "bmi_numbers = []\n",
    "charges = []\n",
    "\n",
    "def create_list_data(converted_list, insurance_csv, column_name):\n",
    "    with open('insurance.csv', 'r+') as insurance_csv:\n",
    "        csv_dict = csv.DictReader(insurance_csv)\n",
    "        for row in csv_dict:\n",
    "            converted_list.append(row[column_name])\n",
    "        return converted_list\n",
    "\n",
    "create_list_data(ages, 'insurance.csv', 'age')\n",
    "create_list_data(sexes, 'insurance.csv', 'sex')\n",
    "create_list_data(bmis, 'insurance.csv', 'bmi')\n",
    "create_list_data(children, 'insurance.csv', 'children')\n",
    "create_list_data(smoker, 'insurance.csv', 'smoker')\n",
    "create_list_data(region, 'insurance.csv', 'region')\n",
    "create_list_data(charges, 'insurance.csv', 'charges')\n",
    "\n",
    "#for those which are not integers converted into floating numbers.\n",
    "bmi_numbers = [float(i) for i in bmis]\n",
    "children_number = [int(i) for i in children]\n",
    "charges_number = [float(i) for i in charges]\n",
    "ages_number = [float(i) for i in ages]\n"
   ]
  },
  {
   "cell_type": "markdown",
   "id": "de3c1b5e",
   "metadata": {},
   "source": [
    "We have created lists where all the related data is held to related person."
   ]
  },
  {
   "cell_type": "code",
   "execution_count": 6,
   "id": "d66ce83c",
   "metadata": {},
   "outputs": [],
   "source": [
    "class Patients:\n",
    "    def __init__(self, patients_ages, patients_sexes, patients_bmis, patients_num_children, \n",
    "                 patients_smoker_statuses, patients_regions, patients_charges):\n",
    "        self.patients_ages = patients_ages\n",
    "        self.patients_sexes = patients_sexes\n",
    "        self.patients_bmis = patients_bmis\n",
    "        self.patients_num_children = patients_num_children\n",
    "        self.patients_smoker_statuses = patients_smoker_statuses\n",
    "        self.patients_regions = patients_regions\n",
    "        self.patients_charges = patients_charges\n",
    "\n",
    "    def analyze_ages(self):\n",
    "        sum_age = 0 \n",
    "        for age in self.patients_ages:\n",
    "            sum_age += age\n",
    "        return (\"The average age of the patients is :\" + str(sum_age / len(self.patients_ages)))\n",
    "    \n",
    "    def min_max_ages(self):\n",
    "        min_age = min(self.patients_ages)\n",
    "        max_age = max(self.patients_ages)\n",
    "        print(\"The youngest person's age is: \" + str(min_age) + '\\n' + \"The oldest person's age is: \" + str(max_age))\n",
    "\n",
    "    def analyze_sexes(self):\n",
    "        females=0\n",
    "        males=0\n",
    "        for sex in self.patients_sexes:\n",
    "            if sex == \"male\":\n",
    "                males +=1\n",
    "            elif sex == \"female\":\n",
    "                females +=1\n",
    "        print(\"The \" + str(round((males/len(self.patients_ages)*100),2)) + \"% of the population is male, and \" + str(round(100-((males/len(self.patients_ages)*100)),2)) + \"% of the poulation is female\")\n",
    "        if abs(round((males/len(self.patients_ages)*100),2) - 50) <= 4:\n",
    "            print(\"The data is almost evenly distributed in sex-wise\")\n",
    "\n",
    "    def analyze_bmis(self):\n",
    "        total_bmi = 0\n",
    "        for bmi in self.patients_bmis:\n",
    "            total_bmi += bmi\n",
    "        print(\"Average bmi index is: \" + str(round(total_bmi/ len(self.patients_bmis),2)))\n",
    "\n",
    "\n",
    "    def unique_region(self):\n",
    "        regions = {}\n",
    "        for region in self.patients_regions:\n",
    "            regions[region] = self.patients_regions.count(region)\n",
    "        print(regions)\n",
    "\n",
    "    def analyze_smoker_ratio(self):\n",
    "        smoker_total = 0\n",
    "        non_smoker_total = 0\n",
    "        no_info = 0\n",
    "        for status in self.patients_smoker_statuses:\n",
    "            if status == \"yes\":\n",
    "                smoker_total+=1\n",
    "            elif status == \"no\":\n",
    "                non_smoker_total+=1\n",
    "            else:\n",
    "                no_info+=1\n",
    "        smoker_ratio = round((smoker_total/len(self.patients_smoker_statuses))*100,2)\n",
    "        nonsmoker_ratio =round((non_smoker_total/len(self.patients_smoker_statuses))*100,2)\n",
    "        print(str(smoker_ratio) + \"% of the population smokes whereas \" + str(nonsmoker_ratio) + \"% are non-smoker.\")\n",
    "\n"
   ]
  },
  {
   "cell_type": "markdown",
   "id": "13ba4178",
   "metadata": {},
   "source": [
    "We have created a class named Patient which we conducted analysis that will be explained below. Before that we will create patients_info to execute the analysis for the data"
   ]
  },
  {
   "cell_type": "code",
   "execution_count": 7,
   "id": "def919ab",
   "metadata": {},
   "outputs": [],
   "source": [
    "patients_info = Patients(ages_number, sexes, bmi_numbers, children_number, smoker, region, charges_number)"
   ]
  },
  {
   "cell_type": "code",
   "execution_count": 8,
   "id": "f95edf44",
   "metadata": {},
   "outputs": [
    {
     "name": "stdout",
     "output_type": "stream",
     "text": [
      "Average bmi index is: 30.66\n"
     ]
    }
   ],
   "source": [
    "patients_info.analyze_bmis()"
   ]
  },
  {
   "cell_type": "markdown",
   "id": "7ec7b9ad",
   "metadata": {},
   "source": [
    "\"BMI is a person’s weight in kilograms divided by the square of height in meters.\" according to the CDC. There are for ranges defined on for bmi. The average bmi index falls in the obese range."
   ]
  },
  {
   "cell_type": "code",
   "execution_count": 9,
   "id": "1b8f401b",
   "metadata": {},
   "outputs": [
    {
     "name": "stdout",
     "output_type": "stream",
     "text": [
      "The 50.52% of the population is male, and 49.48% of the poulation is female\n",
      "The data is almost evenly distributed in sex-wise\n"
     ]
    }
   ],
   "source": [
    "patients_info.analyze_sexes()"
   ]
  },
  {
   "cell_type": "code",
   "execution_count": 28,
   "id": "df61b5a5",
   "metadata": {},
   "outputs": [
    {
     "name": "stdout",
     "output_type": "stream",
     "text": [
      "{'southwest': 325, 'southeast': 364, 'northwest': 325, 'northeast': 324}\n"
     ]
    }
   ],
   "source": [
    "regions = patients_info.unique_region()"
   ]
  },
  {
   "cell_type": "markdown",
   "id": "8c51dca7",
   "metadata": {},
   "source": [
    "The data's distribution is fair region-wise."
   ]
  },
  {
   "cell_type": "code",
   "execution_count": 11,
   "id": "82dd19d1",
   "metadata": {},
   "outputs": [
    {
     "name": "stdout",
     "output_type": "stream",
     "text": [
      "Southwest region's average BMI: 30.6\n",
      "Southeast region's average BMI: 33.36\n",
      "Northwest region's average BMI: 29.2\n",
      "Northeast region's average BMI : 29.17\n"
     ]
    }
   ],
   "source": [
    "region_base_bmi = {}\n",
    "i = 0\n",
    "while i < len(bmi_numbers):\n",
    "    if region[i] not in region_base_bmi:\n",
    "        region_base_bmi[region[i]] = [bmi_numbers[i]]\n",
    "    elif region[i] in region_base_bmi:\n",
    "        region_base_bmi[region[i]].append(bmi_numbers[i])\n",
    "    i+=1\n",
    " \n",
    "#Average BMI indexes of regions\n",
    "southwest_avg = (round(float(sum(d for d in region_base_bmi[\"southwest\"])) / len(region_base_bmi[\"southwest\"]),2))\n",
    "southeast_avg = (round(float(sum(d for d in region_base_bmi[\"southeast\"])) / len(region_base_bmi[\"southeast\"]),2))\n",
    "northwest_avg = (round(float(sum(d for d in region_base_bmi[\"northwest\"])) / len(region_base_bmi[\"northwest\"]),2))\n",
    "northeast_avg = (round(float(sum(d for d in region_base_bmi[\"northeast\"])) / len(region_base_bmi[\"northeast\"]),2))\n",
    "\n",
    "print(\"Southwest region's average BMI: \" + str(southwest_avg))\n",
    "print(\"Southeast region's average BMI: \" + str(southeast_avg))\n",
    "print(\"Northwest region's average BMI: \" + str(northwest_avg))\n",
    "print(\"Northeast region's average BMI : \" + str(northeast_avg))"
   ]
  },
  {
   "cell_type": "markdown",
   "id": "ff9bfe40",
   "metadata": {},
   "source": [
    "Northeast and Northwest regions are in overweighted range, Southwest and Southeast regions are in obese range.\n",
    "So we should separete regions while calculating charges based on BMI to see the bmi effect. \n",
    "\n",
    "But first, let's see if other parameters have pretty same effects in each and every region.\n",
    "We will check if smokers are fairly distributed, the regions average age, average number of children people have and gender-based distribution per region."
   ]
  },
  {
   "cell_type": "code",
   "execution_count": 12,
   "id": "a6cf058c",
   "metadata": {},
   "outputs": [
    {
     "name": "stdout",
     "output_type": "stream",
     "text": [
      "southwest_smokers_ratio: 17.85%\n",
      "southeast_smokers_ratio: 25.0%\n",
      "northwest_smokers_ratio: 17.85%\n",
      "northeast_smokers_ratio: 20.68%\n"
     ]
    }
   ],
   "source": [
    "region_based_smokers_ratio = {}\n",
    "i = 0\n",
    "while i < len(bmi_numbers):\n",
    "    if region[i] not in region_based_smokers_ratio:\n",
    "        region_based_smokers_ratio[region[i]] = [smoker[i]]\n",
    "    elif region[i] in region_based_smokers_ratio:\n",
    "        region_based_smokers_ratio[region[i]].append(smoker[i])\n",
    "    i+=1\n",
    "\n",
    "southwest_smokers_ratio = round((region_based_smokers_ratio[\"southwest\"].count('yes')*100)/len(region_based_smokers_ratio[\"southwest\"]),2)\n",
    "southeast_smokers_ratio = round((region_based_smokers_ratio[\"southeast\"].count('yes')*100)/len(region_based_smokers_ratio[\"southeast\"]),2)\n",
    "northwest_smokers_ratio = round((region_based_smokers_ratio[\"northwest\"].count('yes')*100)/len(region_based_smokers_ratio[\"northwest\"]),2)\n",
    "northeast_smokers_ratio = round((region_based_smokers_ratio[\"northeast\"].count('yes')*100)/len(region_based_smokers_ratio[\"northeast\"]),2)\n",
    "\n",
    "print(\"southwest_smokers_ratio: \" + str(southwest_smokers_ratio) + \"%\")\n",
    "print(\"southeast_smokers_ratio: \" + str(southeast_smokers_ratio) + \"%\")\n",
    "print(\"northwest_smokers_ratio: \" + str(northwest_smokers_ratio) + \"%\")\n",
    "print(\"northeast_smokers_ratio: \" + str(northeast_smokers_ratio) + \"%\")\n",
    "\n"
   ]
  },
  {
   "cell_type": "markdown",
   "id": "893eb031",
   "metadata": {},
   "source": [
    "Southeast's and Northeast's smoker population ratios are pretty high. So, it will be excluded for calculating bmi effect."
   ]
  },
  {
   "cell_type": "code",
   "execution_count": 13,
   "id": "f678e039",
   "metadata": {},
   "outputs": [
    {
     "name": "stdout",
     "output_type": "stream",
     "text": [
      "The average number of children per person for people in southwest is 1.14\n",
      "The average number of children per person for people in northwest is 1.15\n"
     ]
    }
   ],
   "source": [
    "region_based_children = {}\n",
    "region_based_children['southwest'] = []\n",
    "region_based_children['northwest'] = []\n",
    "region_based_children['southeast'] = []\n",
    "region_based_children['northeast'] = []\n",
    "\n",
    "i=0\n",
    "while i < len(children_number):\n",
    "    region_based_children[region[i]].append(children_number[i])\n",
    "    i+=1\n",
    "\n",
    "print(\"The average number of children per person for people in southwest is \" + str(round(sum(d for d in region_based_children['southwest'])/len(region_based_children['southwest']),2)))\n",
    "print(\"The average number of children per person for people in northwest is \" + str(round(sum(d for d in region_based_children['northwest'])/len(region_based_children['northwest']),2)))\n",
    "\n"
   ]
  },
  {
   "cell_type": "markdown",
   "id": "b89c6150",
   "metadata": {},
   "source": [
    "Number of children people have on average are pretty same for every region.\n",
    "We will continue with Southwest and Northwest regions."
   ]
  },
  {
   "cell_type": "code",
   "execution_count": 14,
   "id": "ecbde054",
   "metadata": {},
   "outputs": [
    {
     "name": "stdout",
     "output_type": "stream",
     "text": [
      "The average age of people in southwest is 39.46\n",
      "The average age of people in northwest is 39.2\n",
      "The average age of people in northeast is 39.27\n",
      "The average age of people in southeast is 38.94\n"
     ]
    }
   ],
   "source": [
    "region_based_age = {}\n",
    "region_based_age['southwest'] = []\n",
    "region_based_age['northwest'] = []\n",
    "region_based_age['southeast'] = []\n",
    "region_based_age['northeast'] = []\n",
    "\n",
    "i=0\n",
    "while i < len(children_number):\n",
    "    region_based_age[region[i]].append(ages_number[i])\n",
    "    i+=1\n",
    "    \n",
    "print(\"The average age of people in southwest is \" + str(round(sum(d for d in region_based_age['southwest'])/len(region_based_age['southwest']),2)))\n",
    "print(\"The average age of people in northwest is \" + str(round(sum(d for d in region_based_age['northwest'])/len(region_based_children['northwest']),2)))\n",
    "print(\"The average age of people in northeast is \" + str(round(sum(d for d in region_based_age['northeast'])/len(region_based_age['northeast']),2)))\n",
    "print(\"The average age of people in southeast is \" + str(round(sum(d for d in region_based_age['southeast'])/len(region_based_children['southeast']),2)))\n"
   ]
  },
  {
   "cell_type": "markdown",
   "id": "3e6f92d4",
   "metadata": {},
   "source": [
    "The average ages are consistant for Southwest and Northwest regions."
   ]
  },
  {
   "cell_type": "markdown",
   "id": "237c78d8",
   "metadata": {},
   "source": [
    "Next, we will check if the population is fair gender-wise per region"
   ]
  },
  {
   "cell_type": "code",
   "execution_count": 15,
   "id": "1784dc5d",
   "metadata": {},
   "outputs": [
    {
     "name": "stdout",
     "output_type": "stream",
     "text": [
      "southwest female count: 162\n",
      "nortwest female count: 164\n",
      "southeast female count: 175\n",
      "northeast female count: 161\n"
     ]
    }
   ],
   "source": [
    "region_based_sex = {}\n",
    "region_based_sex['southwest'] = []\n",
    "region_based_sex['northwest'] = []\n",
    "region_based_sex['southeast'] = []\n",
    "region_based_sex['northeast'] = []\n",
    "\n",
    "i=0\n",
    "\n",
    "while i< len(children_number):\n",
    "    region_based_sex[region[i]].append(sexes[i])\n",
    "    i+=1\n",
    "print(\"southwest female count: \" + str(region_based_sex['southwest'].count('female')))\n",
    "print(\"nortwest female count: \" + str(region_based_sex['northwest'].count('female')))\n",
    "print(\"southeast female count: \" + str(region_based_sex['southeast'].count('female')))\n",
    "print(\"northeast female count: \"  + str(region_based_sex['northeast'].count('female')))"
   ]
  },
  {
   "cell_type": "markdown",
   "id": "a6cb6c33",
   "metadata": {},
   "source": [
    "Since their population is the same size, we can conclude that the distribution of the data is fair gender-wise.\n",
    "Hence, we have two sample data being almost the same in the light of the the parameters we check.\n",
    "Finally, we will see if the charges differ in bmi-wise."
   ]
  },
  {
   "cell_type": "code",
   "execution_count": 16,
   "id": "158af2fb",
   "metadata": {},
   "outputs": [
    {
     "name": "stdout",
     "output_type": "stream",
     "text": [
      "Southwest region's average charge: 12346.94\n",
      "Northwest region's average charge: 12417.58\n"
     ]
    }
   ],
   "source": [
    "region_base_charge = {}\n",
    "i = 0\n",
    "while i < len(bmi_numbers):\n",
    "    if region[i] not in region_base_charge:\n",
    "        region_base_charge[region[i]] = [charges_number[i]]\n",
    "    elif region[i] in region_base_charge:\n",
    "        region_base_charge[region[i]].append(charges_number[i])\n",
    "    i+=1\n",
    "\n",
    "southwest_avg_charge = (round(float(sum(d for d in region_base_charge[\"southwest\"])) / len(region_base_charge[\"southwest\"]),2))\n",
    "southeast_avg_charge = (round(float(sum(d for d in region_base_charge[\"southeast\"])) / len(region_base_charge[\"southeast\"]),2))\n",
    "northwest_avg_charge = (round(float(sum(d for d in region_base_charge[\"northwest\"])) / len(region_base_charge[\"northwest\"]),2))\n",
    "northeast_avg_charge = (round(float(sum(d for d in region_base_charge[\"northeast\"])) / len(region_base_charge[\"northeast\"]),2))\n",
    "\n",
    "print(\"Southwest region's average charge: \" + str(southwest_avg_charge))\n",
    "print(\"Northwest region's average charge: \" + str(northwest_avg_charge))\n"
   ]
  },
  {
   "cell_type": "markdown",
   "id": "b181ea35",
   "metadata": {},
   "source": [
    "Since average bmi is higher in Southwest, we would have expected the charges for Southwest to be higher. However, we can see that Southwest charges are lower than Nortwest. \n",
    "Based on the findings, we can only tell that there is no significant effect that lowering BMI decreases insurance charges."
   ]
  },
  {
   "cell_type": "markdown",
   "id": "b70a7dc7",
   "metadata": {},
   "source": [
    "We pretty much calculated every parameter for every region. Let's check if smoking ratio affects charges.\n",
    "Again, we will continue analyzing parameters below. I have picked Northeast and Northwest regions because they look similar in terms of parameters except smoking ratio"
   ]
  },
  {
   "cell_type": "code",
   "execution_count": 17,
   "id": "9063e276",
   "metadata": {},
   "outputs": [
    {
     "name": "stdout",
     "output_type": "stream",
     "text": [
      "northwest_smokers_ratio: 17.85%\n",
      "northeast_smokers_ratio: 20.68%\n"
     ]
    }
   ],
   "source": [
    "print(\"northwest_smokers_ratio: \" + str(northwest_smokers_ratio) + \"%\")\n",
    "print(\"northeast_smokers_ratio: \" + str(northeast_smokers_ratio) + \"%\")"
   ]
  },
  {
   "cell_type": "code",
   "execution_count": 18,
   "id": "6ad62073",
   "metadata": {},
   "outputs": [
    {
     "name": "stdout",
     "output_type": "stream",
     "text": [
      "The average number of children per person for people in northwest is 1.15\n",
      "The average number of children per person for people in northeast is 1.05\n"
     ]
    }
   ],
   "source": [
    "print(\"The average number of children per person for people in northwest is \" + str(round(sum(d for d in region_based_children['northwest'])/len(region_based_children['northwest']),2)))\n",
    "print(\"The average number of children per person for people in northeast is \" + str(round(sum(d for d in region_based_children['northeast'])/len(region_based_children['northeast']),2)))\n"
   ]
  },
  {
   "cell_type": "markdown",
   "id": "c8d94b60",
   "metadata": {},
   "source": [
    "People have on average pretty same number of children in Northwest and Northeast."
   ]
  },
  {
   "cell_type": "code",
   "execution_count": 19,
   "id": "f482934a",
   "metadata": {},
   "outputs": [
    {
     "name": "stdout",
     "output_type": "stream",
     "text": [
      "The average age of people in northwest is 39.2\n",
      "The average age of people in northeast is 39.27\n"
     ]
    }
   ],
   "source": [
    "print(\"The average age of people in northwest is \" + str(round(sum(d for d in region_based_age['northwest'])/len(region_based_children['northwest']),2)))\n",
    "print(\"The average age of people in northeast is \" + str(round(sum(d for d in region_based_age['northeast'])/len(region_based_age['northeast']),2)))"
   ]
  },
  {
   "cell_type": "markdown",
   "id": "5768bfcc",
   "metadata": {},
   "source": [
    "They are quite similar age-wise."
   ]
  },
  {
   "cell_type": "code",
   "execution_count": 20,
   "id": "7867dbeb",
   "metadata": {},
   "outputs": [
    {
     "name": "stdout",
     "output_type": "stream",
     "text": [
      "Northwest region's average BMI: 29.2\n",
      "Northeast region's average BMI : 29.17\n"
     ]
    }
   ],
   "source": [
    "print(\"Northwest region's average BMI: \" + str(northwest_avg))\n",
    "print(\"Northeast region's average BMI : \" + str(northeast_avg))"
   ]
  },
  {
   "cell_type": "markdown",
   "id": "e2110f4e",
   "metadata": {},
   "source": [
    "Bmi indexes are the same, we have checked just to be sure."
   ]
  },
  {
   "cell_type": "code",
   "execution_count": 21,
   "id": "d59770ba",
   "metadata": {},
   "outputs": [
    {
     "name": "stdout",
     "output_type": "stream",
     "text": [
      "nortwest female count: 164\n",
      "northeast female count: 161\n"
     ]
    }
   ],
   "source": [
    "print(\"nortwest female count: \" + str(region_based_sex['northwest'].count('female')))\n",
    "print(\"northeast female count: \"  + str(region_based_sex['northeast'].count('female')))\n"
   ]
  },
  {
   "cell_type": "markdown",
   "id": "33281b30",
   "metadata": {},
   "source": [
    "The data is almost evenly distributed in gender-wise"
   ]
  },
  {
   "cell_type": "code",
   "execution_count": 22,
   "id": "a102cb50",
   "metadata": {},
   "outputs": [
    {
     "name": "stdout",
     "output_type": "stream",
     "text": [
      "Northwest region's average charge: 12417.58\n",
      "Northeast region's average charge: 13406.38\n",
      "The difference is:7.38%\n"
     ]
    }
   ],
   "source": [
    "print(\"Northwest region's average charge: \" + str(northwest_avg_charge))\n",
    "print(\"Northeast region's average charge: \" + str(northeast_avg_charge))\n",
    "difference = round(((northeast_avg_charge-northwest_avg_charge)*100)/northeast_avg_charge,2)\n",
    "print(\"The difference is:\" + str(difference) +\"%\")"
   ]
  },
  {
   "cell_type": "markdown",
   "id": "ca81d4c1",
   "metadata": {},
   "source": [
    "Let's remember the smoking ratios:\n",
    "\n",
    "northwest_smokers_ratio: 17.85%\n",
    "northeast_smokers_ratio: 20.68%\n",
    "\n",
    "Based on the findings, we can definitely say 3% increase in smoking ratio(northeast_smokers_ratio-northwest_smokers_ratio) increases charges by 7%.\n",
    "\n",
    "With the help of math:\n",
    "if 3% increases charges by 7% on average: 20.68% decrease of smoker-ratio in Northeast should be expected to lower charges by 62.04% (20.68*3) on average, approximately."
   ]
  },
  {
   "cell_type": "raw",
   "id": "5919b0d7",
   "metadata": {},
   "source": [
    "Let's check non-smoker and smoker charges for the regions selected."
   ]
  },
  {
   "cell_type": "code",
   "execution_count": 27,
   "id": "27f8fb48",
   "metadata": {},
   "outputs": [
    {
     "name": "stdout",
     "output_type": "stream",
     "text": [
      "Smokers pay 69.11% more than non-smokers in Northeast\n",
      "Smokers pay 72.91% more than non-smokers in Northwest\n"
     ]
    }
   ],
   "source": [
    "region_based_charges_smoking = {\n",
    "    'southeast': {'yes': [], 'no': []},\n",
    "    'northeast': {'yes': [], 'no': []},\n",
    "    'northwest': {'yes': [], 'no': []},\n",
    "    'southwest': {'yes': [], 'no': []},\n",
    "}\n",
    "\n",
    "i=0\n",
    "for place in region:\n",
    "    if smoker[i] == 'yes':\n",
    "            region_based_charges_smoking[region[i]][smoker[i]].append(charges_number[i])\n",
    "    elif smoker[i] == 'no':\n",
    "            region_based_charges_smoking[region[i]][smoker[i]].append(charges_number[i])\n",
    "    i+=1\n",
    "\n",
    "average_smoker_southeast = round(sum(d for d in region_based_charges_smoking['southeast']['yes'])/len(region_based_charges_smoking['southeast']['yes']),2)\n",
    "average_nonsmoker_southeast = round(sum(d for d in region_based_charges_smoking['southeast']['no'])/len(region_based_charges_smoking['southeast']['no']),2)\n",
    "average_smoker_southwest = round(sum(d for d in region_based_charges_smoking['southwest']['yes'])/len(region_based_charges_smoking['southwest']['yes']),2)\n",
    "average_nonsmoker_southwest = round(sum(d for d in region_based_charges_smoking['southwest']['no'])/len(region_based_charges_smoking['southwest']['no']),2)\n",
    "\n",
    "average_smoker_northeast = round(sum(d for d in region_based_charges_smoking['northeast']['yes'])/len(region_based_charges_smoking['northeast']['yes']),2)\n",
    "average_nonsmoker_northeast = round(sum(d for d in region_based_charges_smoking['northeast']['no'])/len(region_based_charges_smoking['northeast']['no']),2)\n",
    "average_smoker_northwest = round(sum(d for d in region_based_charges_smoking['northwest']['yes'])/len(region_based_charges_smoking['northwest']['yes']),2)\n",
    "average_nonsmoker_northwest = round(sum(d for d in region_based_charges_smoking['northwest']['no'])/len(region_based_charges_smoking['northwest']['no']),2)\n",
    "\n",
    "print(\n",
    "    \"Smokers pay \" + str(round((((average_smoker_northeast-average_nonsmoker_northeast)*100)/average_smoker_northeast),2)) + \"% more than non-smokers in Northeast\"\n",
    ")\n",
    "\n",
    "print(\n",
    "    \"Smokers pay \" + str(round((((average_smoker_northwest-average_nonsmoker_northwest)*100)/average_smoker_northeast),2)) + \"% more than non-smokers in Northwest\"\n",
    ")\n",
    "\n"
   ]
  },
  {
   "cell_type": "markdown",
   "id": "300369ec",
   "metadata": {},
   "source": [
    "In latest calculation we should conduct more researches on given groups for the parameters. However this finding supports that  quitting smoking lowers the charges at least 62.04% in Northeast. "
   ]
  }
 ],
 "metadata": {
  "kernelspec": {
   "display_name": "Python 3 (ipykernel)",
   "language": "python",
   "name": "python3"
  },
  "language_info": {
   "codemirror_mode": {
    "name": "ipython",
    "version": 3
   },
   "file_extension": ".py",
   "mimetype": "text/x-python",
   "name": "python",
   "nbconvert_exporter": "python",
   "pygments_lexer": "ipython3",
   "version": "3.10.5"
  }
 },
 "nbformat": 4,
 "nbformat_minor": 5
}
